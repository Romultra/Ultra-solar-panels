{
 "cells": [
  {
   "cell_type": "markdown",
   "metadata": {},
   "source": [
    "## Extension"
   ]
  },
  {
   "cell_type": "markdown",
   "metadata": {},
   "source": [
    "Datasheet of MiaSolé thin film panels (350 W): https://miasole.com/wp-content/uploads/2022/07/FLEX-02W_Datasheet_5.pdf\n",
    "\n",
    "Building to be used: Autonomous Testing Center DTU (dome with curved based)\n",
    "-- dimensions: 40 m x 24 m x 14 m "
   ]
  },
  {
   "cell_type": "code",
   "execution_count": null,
   "metadata": {
    "vscode": {
     "languageId": "plaintext"
    }
   },
   "outputs": [],
   "source": [
    "To-do\n",
    "\n",
    "1. choose a parametrization\n",
    "2. find datasheet\n",
    "3. adjust model and python code to account for inconstancy of normal vector => integrate projection of vector field onto surface's unit normal vector.\n",
    "4. calculate annual energy production "
   ]
  },
  {
   "cell_type": "markdown",
   "metadata": {},
   "source": [
    "WSA HEADQUARTERS LYNGE\n",
    "15m tall, solar panels have maximum output of 78kwh\n",
    "\n",
    "60 m radius\n",
    "\n",
    "115 degrees to 252 degrees panels."
   ]
  },
  {
   "cell_type": "code",
   "execution_count": null,
   "metadata": {},
   "outputs": [],
   "source": [
    "def flux_function_curved(A0, r, L, h, sunpos):\n",
    "    energy = 0\n",
    "    \n",
    "    # Creates the normal vector of the panel with the provided angles\n",
    "    panel = panel_normal_np(azimuth_panel, alpha_panel)\n",
    "    \n",
    "    sunpos = sunpos[sunpos['apparent_elevation'] > 0]\n",
    "\n",
    "    alpha = np.deg2rad(sunpos.apparent_elevation)\n",
    "    azimuth = np.deg2rad(sunpos.azimuth)\n",
    "\n",
    "    cos_azimuth = np.cos(azimuth)\n",
    "    sin_azitmuth = np.sin(azimuth)\n",
    "    tan_alpha = np.tan(alpha)\n",
    "\n",
    "    solar_flux_array = np.array([cos_azimuth, sin_azitmuth, tan_alpha])\n",
    "    #print(solar_flux_array)\n",
    "    for i in range(len(alpha)):\n",
    "        solar_flux = solar_flux_array[:, i]*1100 / np.linalg.norm(solar_flux_array[:, i])\n",
    "        #print(np.dot(panel, solar_flux), solar_flux, panel)\n",
    "        energy += max(0, np.dot(panel, solar_flux))*A0*L*B/1000\n",
    "            \n",
    "    return energy\n"
   ]
  }
 ],
 "metadata": {
  "language_info": {
   "name": "python"
  }
 },
 "nbformat": 4,
 "nbformat_minor": 2
}
