{
 "cells": [
  {
   "cell_type": "markdown",
   "metadata": {},
   "source": [
    "## Extension"
   ]
  },
  {
   "cell_type": "markdown",
   "metadata": {},
   "source": [
    "Datasheet of MiaSolé thin film panels (350 W): https://miasole.com/wp-content/uploads/2022/07/FLEX-02W_Datasheet_5.pdf\n",
    "\n",
    "Building to be used: Autonomous Testing Center DTU (dome with curved based)\n",
    "-- dimensions: 40 m x 24 m x 14 m "
   ]
  },
  {
   "cell_type": "markdown",
   "metadata": {},
   "source": [
    "To-do\n",
    "\n",
    "1. choose a parametrization: DOOOOONNNEEE\n",
    "2. find datasheet\n",
    "3. adjust model and python code to account for inconstancy of normal vector => integrate projection of vector field onto surface's unit normal vector: DOOOOONNNEEE\n",
    "4. calculate annual energy production: DOOOOONNNEEE"
   ]
  },
  {
   "cell_type": "markdown",
   "metadata": {},
   "source": [
    "WSA HEADQUARTERS LYNGE\n",
    "15m tall, solar panels have maximum output of 78kwh\n",
    "\n",
    "60 m radius\n",
    "\n",
    "115 degrees to 252 degrees panels."
   ]
  },
  {
   "cell_type": "code",
   "execution_count": 1,
   "metadata": {},
   "outputs": [],
   "source": [
    "from panelpy import *"
   ]
  },
  {
   "cell_type": "code",
   "execution_count": 2,
   "metadata": {},
   "outputs": [
    {
     "name": "stdout",
     "output_type": "stream",
     "text": [
      "371.59456087604934 kWh\n"
     ]
    }
   ],
   "source": [
    "timezone = \"Europe/Copenhagen\"\n",
    "start_date = \"2024-01-01\"\n",
    "end_date = \"2024-12-31\"\n",
    "delta_time = \"H\"  # \"Min\", \"H\",\n",
    "\n",
    "# Definition of Location object. Coordinates and elevation of Amager, Copenhagen (Denmark)\n",
    "site = Location(\n",
    "    55.840556, 12.314444, timezone, 21, \"DTU (DK)\"\n",
    ")  # latitude, longitude, time_zone, altitude, name\n",
    "\n",
    "# Definition of a time range of simulation\n",
    "times = pd.date_range(\n",
    "    start_date + \" 00:00:00\", end_date + \" 23:59:00\", freq=delta_time, tz=timezone\n",
    ")\n",
    "\n",
    "sunpos = site.get_solarposition(times)\n",
    "\n",
    "print(f\"{flux_function_curved(0.5, 1/(2*np.pi), 1, sunpos)} kWh\")"
   ]
  }
 ],
 "metadata": {
  "kernelspec": {
   "display_name": "Python 3",
   "language": "python",
   "name": "python3"
  },
  "language_info": {
   "codemirror_mode": {
    "name": "ipython",
    "version": 3
   },
   "file_extension": ".py",
   "mimetype": "text/x-python",
   "name": "python",
   "nbconvert_exporter": "python",
   "pygments_lexer": "ipython3",
   "version": "3.11.6"
  }
 },
 "nbformat": 4,
 "nbformat_minor": 2
}
