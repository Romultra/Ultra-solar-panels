{
 "cells": [
  {
   "cell_type": "markdown",
   "metadata": {},
   "source": [
    "## Extension"
   ]
  },
  {
   "cell_type": "markdown",
   "metadata": {},
   "source": [
    "Datasheet of MiaSolé thin film panels (350 W): https://miasole.com/wp-content/uploads/2022/07/FLEX-02W_Datasheet_5.pdf\n",
    "\n",
    "Building to be used: Autonomous Testing Center DTU (dome with curved based)\n",
    "-- dimensions: 40 m x 24 m x 14 m "
   ]
  },
  {
   "cell_type": "code",
   "execution_count": null,
   "metadata": {
    "vscode": {
     "languageId": "plaintext"
    }
   },
   "outputs": [],
   "source": [
    "To-do\n",
    "\n",
    "1. choose a parametrization\n",
    "2. find datasheet\n",
    "3. adjust model and python code to account for inconstancy of normal vector => integrate projection of vector field onto surface's unit normal vector.\n",
    "4. calculate annual energy production "
   ]
  },
  {
   "cell_type": "markdown",
   "metadata": {},
   "source": [
    "WSA HEADQUARTERS LYNGE\n",
    "15m tall, solar panels have maximum output of 78kwh"
   ]
  }
 ],
 "metadata": {
  "language_info": {
   "name": "python"
  }
 },
 "nbformat": 4,
 "nbformat_minor": 2
}
