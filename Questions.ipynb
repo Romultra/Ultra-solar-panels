{
 "cells": [
  {
   "cell_type": "code",
   "execution_count": 5,
   "metadata": {},
   "outputs": [],
   "source": [
    "import numpy as np\n",
    "import sympy as sym\n",
    "import matplotlib.pyplot as plt\n",
    "import pandas as pd\n",
    "import pvlib\n",
    "from pvlib.location import Location\n",
    "from sympy import *\n",
    "from sympy.abc import x,y,z,u,v,w,t\n",
    "from dtumathtools import *\n",
    "init_printing()"
   ]
  },
  {
   "cell_type": "markdown",
   "metadata": {},
   "source": [
    "> Find through literature search the recommended angle at which solar panels are installed in Denmark. The angle is said to be zero degrees if the panel lies flat on the ground (or roof)."
   ]
  },
  {
   "cell_type": "markdown",
   "metadata": {},
   "source": [
    "The best angle in Copenhagen is $36^\\circ$ when the solar panel is facing south.\n",
    "\n",
    "Source: (Mark Z. Jacobson - World estimates of PV optimal tilt angles and ratios of sunlight incident upon tilted and tracked PV panels relative to horizontal panels) \n",
    "https://www.sciencedirect.com/science/article/pii/S0038092X1830375X"
   ]
  },
  {
   "cell_type": "markdown",
   "metadata": {},
   "source": [
    "> Select a type of solar panel. You can search for installers in Denmark and investigate which panels they typically use, or you can google \"solar panel datasheet\" or similar. The solar panel should be a standard panel (flat and not curved, for example). Find a datasheet for the chosen solar panel, and describe the panel's size (using $L$ for length and $B$ for width) and indicate Wp/Pmax (referred to as max power, peak power watts, or similar) under the STC standard. Describe what the STC standard entails. Calculate $Wp/(L B)$ (according to the list of standard assumptions above). Assume ideal conditions: the sun is perpendicular to the solar panel, and the solar irradiance is $1100 W/m^2$ for an entire hour. How many joules and kilowatt-hours does the panel deliver in this hour? How many watt-hours is this per $m^2$?\n"
   ]
  },
  {
   "cell_type": "markdown",
   "metadata": {},
   "source": [
    "We couldn't find the most used one. Here an arbitrairy panel sold in Denmark: \n",
    "\n",
    "Leapton Solar LP182*182-M-60-MH\n",
    "* Size: L=1909mm B=1134mm \n",
    "* Pmax=465W at STC\n",
    "* STC=standard test conditions: irradiance of 1000W/m^2, atmospheric density of 1.5, cell temperature of $25^\\circ$ C, sun angle perpendicular to the solar panel, 500 feets above sea level\n",
    "* $Wp/(LB)=214.8* W/m^2$"
   ]
  },
  {
   "cell_type": "markdown",
   "metadata": {},
   "source": [
    "> Your final report should also include an introductory section where you describe solar energy and solar cells. You determine what exactly the section should contain, but the sources below can be used to find information. It is recommended to write this section first once you have progressed further with the project. \n",
    "\n",
    "1. https://www.pveducation.org/\n",
    "1. https://www.acs.org/education/resources/highschool/chemmatters/past-issues/archive-2013-2014/how-a-solar-cell-works.html"
   ]
  },
  {
   "cell_type": "markdown",
   "metadata": {},
   "source": [
    "> Provide a formula or expression for the flux through the surface expressed in terms of $A_0$, $\\pmb{u}_p, \\pmb{V}, L$, and $B$. We define the flux to be zero if the angle between $\\pmb{u}_p$ and $\\pmb{V}$ is greater than $\\pi/2$ (90 degrees), as we do not want negative flux. Your expression should account for this.\n",
    "\n",
    "*Hint*: Since the normal vector is constant, you can get rid of the integral sign.\n"
   ]
  },
  {
   "cell_type": "markdown",
   "metadata": {},
   "source": [
    "$ReLu(<u_p,V> \\cdot A_0 \\cdot L \\cdot B \\cdot)$"
   ]
  },
  {
   "cell_type": "markdown",
   "metadata": {},
   "source": [
    "> Provide SI units for $\\pmb{V}$, $L$, $B$, $A_0$, flux, and energy. Specify the relationship between $\\mathrm{J}$ and $\\mathrm{kWh}$."
   ]
  },
  {
   "cell_type": "markdown",
   "metadata": {},
   "source": [
    "> Write Python code that finds all function values in `f` in the interval $[-0.05, 0.05]$ and indicates the corresponding `t` values. "
   ]
  },
  {
   "cell_type": "markdown",
   "metadata": {},
   "source": [
    "> Write a Python function that can find both sign changes (zero crossings) of `f`.\n"
   ]
  },
  {
   "cell_type": "markdown",
   "metadata": {},
   "source": [
    "> Write a Python function `def solar_elevation_angle(theta)` that, given $\\theta$ in degrees, calculates $\\alpha$ in degrees."
   ]
  },
  {
   "cell_type": "code",
   "execution_count": 6,
   "metadata": {},
   "outputs": [
    {
     "data": {
      "image/png": "[encoded data removed]",
      "text/latex": [
       "$\\displaystyle 180$"
      ],
      "text/plain": [
       "180"
      ]
     },
     "execution_count": 6,
     "metadata": {},
     "output_type": "execute_result"
    }
   ],
   "source": [
    "# Not right Need to be fixed\n",
    "\n",
    "def solar_elevation_angle(theta):\n",
    "    alpha = theta*180 / pi\n",
    "    return alpha\n",
    "solar_elevation_angle(pi)"
   ]
  },
  {
   "cell_type": "markdown",
   "metadata": {},
   "source": [
    "> Suppose the sun has a fixed distance $r_s$ to the Earth. Find a reasonable value for $r_s$. Provide a (mathematical) expression for how the sun's $xyz$-coordinates can be calculated from $r_s$, $\\theta_s$, and $\\phi_s$, where $\\theta_s$ and $\\phi_s$ are respectively the zenith and azimuth angles for the sun's position."
   ]
  },
  {
   "cell_type": "markdown",
   "metadata": {},
   "source": [
    "$r_s$ is approximately 150 million kilometers $(1.5 · 10^11 m)$ from the Earth. \n",
    "\n",
    "*Note: added m in case they're needed for calculations; if not, erase.*\n",
    "\n",
    "It is given that $\\alpha + \\theta = 90$, so, from the Earth's perspective we'll preferably work with $\\alpha$ as it considers the Sun's position from the horizon, up. Hence\n",
    "\n",
    "$\\left[ \n",
    "\\begin{array}{c}\n",
    "x\\\\\n",
    "y\\\\\n",
    "z \n",
    "\\end{array}\n",
    "\\right]$ \n",
    "$=$\n",
    "$\\left[\n",
    "\\begin{array}{c}\n",
    "r_s cos(\\alpha_s)\\\\\n",
    "r_s sin(\\alpha_s)\\\\\n",
    "r_s tan(\\phi_s)\n",
    "\\end{array}\n",
    "\\right]$\n",
    "\n",
    "The above is a non-normalized vector expression for $u_s$. If that is followed, the expression will become the parametrization of a sphere in terms of $\\alpha$. \n",
    "\n",
    "Alternatively, it may start off of the normalized parametrization of a sphere, using $\\theta$ instead and losing the unitary quality of its origin with the addition of the scalar $r_s$.\n",
    "\n",
    "$\\left[ \n",
    "\\begin{array}{c}\n",
    "x\\\\\n",
    "y\\\\\n",
    "z \n",
    "\\end{array}\n",
    "\\right]$ \n",
    "$=$\n",
    "$\\left[\n",
    "\\begin{array}{c}\n",
    "r_s sin(\\theta_s) cos(\\phi_s)\\\\\n",
    "r_s sin(\\theta_s) sin(\\phi_s)\\\\\n",
    "r_s  cos(\\phi_s)\n",
    "\\end{array}\n",
    "\\right]$\n",
    "\n"
   ]
  },
  {
   "cell_type": "markdown",
   "metadata": {},
   "source": [
    "> Provide a (mathematical) expression for $\\pmb{u}_p$ and for $\\langle \\pmb{u}_{s}, \\pmb{u}_p \\rangle$ based on the zenith and azimuth angles. You should simplify the expression so that it contains $\\cos(\\theta_p-\\theta_s)$ and only 5 trigonometric functions. Show that $-1 \\le \\langle \\pmb{u}_{s}, \\pmb{u}_p \\rangle \\le 1$. Explain in your own words what it means when $\\langle \\pmb{u}_{s}, \\pmb{u}_p \\rangle < 0$.\n"
   ]
  },
  {
   "cell_type": "markdown",
   "metadata": {},
   "source": [
    "$<u_s, u_p> = \\sin(\\alpha_p)\\sin(\\alpha_s) + \\cos(\\alpha)\\cos(\\alpha_s)\\cos(\\phi_p - \\phi_s)\\\\\n",
    "<u_s, u_p> = \\frac{cos(\\alpha_p - \\alpha_s) - cos(\\alpha_p+\\alpha_s)}{2} + \\cos(\\alpha)\\cos(\\alpha_s)\\cos(\\phi_p - \\phi_s)$\n",
    "\n",
    "$\\text{Note: our vectors result from the parametrization of a sphere in terms of alpha instead of theta, knowing that alpha + theta = 90. For more info on this, Emilia has the working out of it.}$\n",
    "$sin(a)sin(b) = (1/2)(cos(a-b)-cos(a+b))$"
   ]
  },
  {
   "cell_type": "markdown",
   "metadata": {},
   "source": [
    "> Write a Python function `def solar_panel_projection(theta_sun, phi_sun, theta_panel, phi_panel)` that returns $\\langle \\pmb{n}_{s}, \\pmb{n}_p \\rangle$ when it is positive and otherwise returns zero."
   ]
  },
  {
   "cell_type": "code",
   "execution_count": 7,
   "metadata": {},
   "outputs": [],
   "source": [
    "phi_panel, alpha_panel, phi_sun, alpha_sun = symbols(\"phi_panel alpha_panel phi_sun alpha_sun\")\n",
    "\n",
    "def solar_panel_projection(alpha_sun, phi_sun, alpha_panel, phi_panel):\n",
    "    u_p = cos(alpha_panel) * Matrix([[cos(phi_panel)], [sin(phi_panel)], [tan(alpha_panel)]])\n",
    "    u_s = cos(alpha_sun) * Matrix([[cos(phi_sun)], [sin(phi_sun)], [tan(alpha_sun)]])\n",
    "    u_s__u_p = u_s.dot(u_p).simplify()\n",
    "    if u_s__u_p < 0:\n",
    "        return 0\n",
    "    else:\n",
    "        return u_s__u_p"
   ]
  },
  {
   "cell_type": "markdown",
   "metadata": {},
   "source": [
    "> Take another look at your Python function `def solar_panel_projection(theta_sun, phi_sun, theta_panel, phi_panel)`. Rewrite it so that it works on NumPy arrays of zenith and azimuth angles. You can test it on the following three situations, where the projection should yield $0.707107$, $0.0$, and $0.0$ (or rather, with numerical errors, it should give `array([7.07106781e-01, 6.12323400e-17, 0.0])`). Explain the orientation of the solar panel and the position of the sun in the three situations.\n",
    "\n"
   ]
  },
  {
   "cell_type": "code",
   "execution_count": 8,
   "metadata": {},
   "outputs": [],
   "source": [
    "def solar_panel_projection(theta_sun, phi_sun, theta_panel, phi_panel): #(zenith, azimuth)\n",
    "    alpha_sun = np.pi/2 - theta_sun\n",
    "    alpha_panel = np.pi/2 - theta_panel\n",
    "    u_p = np.cos(alpha_panel) * np.array([[np.cos(phi_panel)], [np.sin(phi_panel)], [np.tan(alpha_panel)]])\n",
    "    u_s = np.cos(alpha_sun) *np.array([[np.cos(phi_sun)], [np.sin(phi_sun)], [np.tan(alpha_sun)]])\n",
    "    u_s__u_p = np.dot(u_p.flatten(), u_s.flatten())\n",
    "    if u_s__u_p <0:\n",
    "        return 0\n",
    "    else:\n",
    "        return u_s__u_p"
   ]
  },
  {
   "cell_type": "code",
   "execution_count": 9,
   "metadata": {},
   "outputs": [
    {
     "data": {
      "image/png": "[encoded data removed]",
      "text/latex": [
       "$\\displaystyle \\left[ 0.707106781186547, \\  0, \\  0\\right]$"
      ],
      "text/plain": [
       "[0.7071067811865475, 0, 0]"
      ]
     },
     "execution_count": 9,
     "metadata": {},
     "output_type": "execute_result"
    }
   ],
   "source": [
    "#Testing cell for above function\n",
    "\n",
    "theta_sun = np.array([np.pi / 4]) #, np.pi / 2, 0.0])\n",
    "phi_sun = np.array([np.pi]) #, np.pi / 2, 0.0])\n",
    "theta_panel = np.array([0.0]) #, np.pi / 2, np.pi])\n",
    "phi_panel = np.array([np.pi]) #, 0.0, 0.0])\n",
    "\n",
    "theta_sun2 = np.array([np.pi / 2]) # 0.0])\n",
    "phi_sun2 = np.array([np.pi]) # 0.0])\n",
    "theta_panel2 = np.array([np.pi / 2]) #np.pi])\n",
    "phi_panel2 = np.array([0.0]) #0\n",
    "\n",
    "theta_sun3 = np.array([0.0]) # 0.0])\n",
    "phi_sun3 = np.array([0.0]) # 0.0])\n",
    "theta_panel3 = np.array([np.pi]) #np.pi])\n",
    "phi_panel3 = np.array([0.0]) #0\n",
    "\n",
    "angles1 = solar_panel_projection(theta_sun, phi_sun, theta_panel, phi_panel)\n",
    "angles2 = solar_panel_projection(theta_sun2, phi_sun2, theta_panel2, phi_panel2)\n",
    "angles3 = solar_panel_projection(theta_sun3, phi_sun3, theta_panel3, phi_panel3)\n",
    "\n",
    "[angles1, angles2, angles3]"
   ]
  },
  {
   "cell_type": "markdown",
   "metadata": {},
   "source": [
    "> Choose a location for your solar panel, for example, DTU. Update the above GPS coordinates (measured in DecimalDegrees), altitude, and name to match the chosen location."
   ]
  },
  {
   "cell_type": "markdown",
   "metadata": {},
   "source": [
    "55.785469, 12.519103"
   ]
  },
  {
   "cell_type": "code",
   "execution_count": 10,
   "metadata": {},
   "outputs": [],
   "source": [
    "timezone = \"Europe/Copenhagen\"\n",
    "start_date = \"2024-04-20\"\n",
    "end_date = \"2024-04-20\"\n",
    "delta_time = \"H\"  # \"Min\", \"H\", \n",
    "\n",
    "# Definition of Location object. Coordinates and elevation of Amager, Copenhagen (Denmark)\n",
    "site = Location(\n",
    "    55.785469, 12.519103, timezone, 10, \"DTU (DK)\"\n",
    ")  # latitude, longitude, time_zone, altitude, name\n",
    "\n",
    "# Definition of a time range of simulation\n",
    "times = pd.date_range(\n",
    "    start_date + \" 00:00:00\", end_date + \" 23:59:00\", freq=delta_time, tz=timezone\n",
    ")\n",
    "#print(times)\n",
    "\n",
    "sunpos = site.get_solarposition(times)\n"
   ]
  },
  {
   "cell_type": "code",
   "execution_count": 11,
   "metadata": {},
   "outputs": [],
   "source": [
    "def solar_flux(i):\n",
    "    #Defining angles in radians\n",
    "    alpha = np.deg2rad(sunpos.apparent_elevation)\n",
    "    azimuth = np.deg2rad(sunpos.azimuth)\n",
    "    vector = (Matrix([cos(azimuth[i]),sin(azimuth[i]),tan(alpha[i])]))\n",
    "    return(vector.normalized()*1100)"
   ]
  },
  {
   "cell_type": "code",
   "execution_count": 12,
   "metadata": {},
   "outputs": [],
   "source": [
    "def panel_normal(azimuth,alpha):\n",
    "    vector = (Matrix([cos(azimuth),sin(azimuth),tan(alpha)]))\n",
    "    return(vector.normalized())"
   ]
  },
  {
   "cell_type": "markdown",
   "metadata": {},
   "source": [
    "Here we have chosen to plot the solar angles for April 1st.\n",
    "\n",
    "> Plot the zenith, azimuth, and elevation angles of the sun, i.e., $\\theta_s, \\phi_s, \\alpha_s$, for the entire day of April 20, 2024, as a function of time.\n"
   ]
  },
  {
   "cell_type": "code",
   "execution_count": 13,
   "metadata": {},
   "outputs": [
    {
     "data": {
      "text/plain": [
       "[<matplotlib.lines.Line2D at 0x28ddd3d7310>]"
      ]
     },
     "execution_count": 13,
     "metadata": {},
     "output_type": "execute_result"
    },
    {
     "data": {
      "image/png": "[encoded data removed]",
      "text/plain": [
       "<Figure size 640x480 with 1 Axes>"
      ]
     },
     "metadata": {},
     "output_type": "display_data"
    }
   ],
   "source": [
    "thet = sunpos.apparent_zenith\n",
    "azim = sunpos.azimuth\n",
    "alph = sunpos.apparent_elevation\n",
    "time = []\n",
    "for i in range(24):\n",
    "    time.append(i)\n",
    "plt.plot(time,thet)\n",
    "plt.plot(time,alph)\n",
    "plt.plot(time,azim)"
   ]
  },
  {
   "cell_type": "markdown",
   "metadata": {},
   "source": [
    "> Plot the elevation angle of the sun and determine when the sun is highest during the day on April 20, 2024. Explain what it means when $\\alpha_s < 0$ or $\\theta_s > 90^\\circ$."
   ]
  },
  {
   "cell_type": "code",
   "execution_count": 14,
   "metadata": {},
   "outputs": [
    {
     "name": "stderr",
     "output_type": "stream",
     "text": [
      "C:\\Users\\romul\\AppData\\Local\\Temp\\ipykernel_10268\\156121367.py:2: FutureWarning: Series.__getitem__ treating keys as positions is deprecated. In a future version, integer keys will always be treated as labels (consistent with DataFrame behavior). To access a value by position, use `ser.iloc[pos]`\n",
      "  if alph[i] == max(alph):\n"
     ]
    },
    {
     "data": {
      "image/png": "[encoded data removed]",
      "text/latex": [
       "$\\displaystyle 13$"
      ],
      "text/plain": [
       "13"
      ]
     },
     "execution_count": 14,
     "metadata": {},
     "output_type": "execute_result"
    }
   ],
   "source": [
    "for i in range(len(alph)):\n",
    "    if alph[i] == max(alph):\n",
    "        indexi = i\n",
    "        break\n",
    "indexi"
   ]
  },
  {
   "cell_type": "markdown",
   "metadata": {},
   "source": [
    "> Find the time of sunrise and sunset at DTU on April 20, 2024. Compare with \"known\" values such as those from DMI. *Hint:* If you want precise values, you should use `apparent_elevation` (apparent sun elevation accounting for atmospheric refraction) instead of `elevation`. You do not need to account for the curvature of the Earth.\n"
   ]
  },
  {
   "cell_type": "code",
   "execution_count": 15,
   "metadata": {},
   "outputs": [
    {
     "name": "stderr",
     "output_type": "stream",
     "text": [
      "C:\\Users\\romul\\AppData\\Local\\Temp\\ipykernel_10268\\936295048.py:2: FutureWarning: Series.__getitem__ treating keys as positions is deprecated. In a future version, integer keys will always be treated as labels (consistent with DataFrame behavior). To access a value by position, use `ser.iloc[pos]`\n",
      "  if alph[i] < 0 and alph[i+1] >= 0:\n",
      "C:\\Users\\romul\\AppData\\Local\\Temp\\ipykernel_10268\\936295048.py:4: FutureWarning: Series.__getitem__ treating keys as positions is deprecated. In a future version, integer keys will always be treated as labels (consistent with DataFrame behavior). To access a value by position, use `ser.iloc[pos]`\n",
      "  if alph[i] >0 and alph[i+1] <=0:\n"
     ]
    },
    {
     "data": {
      "image/png": "[encoded data removed]",
      "text/latex": [
       "$\\displaystyle 6$"
      ],
      "text/plain": [
       "6"
      ]
     },
     "metadata": {},
     "output_type": "display_data"
    },
    {
     "data": {
      "image/png": "[encoded data removed]",
      "text/latex": [
       "$\\displaystyle 21$"
      ],
      "text/plain": [
       "21"
      ]
     },
     "metadata": {},
     "output_type": "display_data"
    }
   ],
   "source": [
    "for i in range(len(alph)):\n",
    "    if alph[i] < 0 and alph[i+1] >= 0:\n",
    "        sunri = i +1\n",
    "    if alph[i] >0 and alph[i+1] <=0:\n",
    "        sunse = i+1\n",
    "        break\n",
    "display(sunri,sunse)"
   ]
  },
  {
   "cell_type": "markdown",
   "metadata": {},
   "source": [
    "> Find the highest point of the sun in the sky (in degrees) on the summer solstice at DTU, and when during the day it occurs? *Hint:* You will need to change the start and end dates for the `sunpos` object."
   ]
  },
  {
   "cell_type": "code",
   "execution_count": 16,
   "metadata": {},
   "outputs": [
    {
     "name": "stderr",
     "output_type": "stream",
     "text": [
      "C:\\Users\\romul\\AppData\\Local\\Temp\\ipykernel_10268\\3780263234.py:20: FutureWarning: Series.__getitem__ treating keys as positions is deprecated. In a future version, integer keys will always be treated as labels (consistent with DataFrame behavior). To access a value by position, use `ser.iloc[pos]`\n",
      "  if sunpos.apparent_elevation[i] == maximum:\n"
     ]
    },
    {
     "data": {
      "image/png": "[encoded data removed]",
      "text/latex": [
       "$\\displaystyle 0$"
      ],
      "text/plain": [
       "0"
      ]
     },
     "metadata": {},
     "output_type": "display_data"
    },
    {
     "data": {
      "image/png": "[encoded data removed]",
      "text/latex": [
       "$\\displaystyle 57.6614915865685$"
      ],
      "text/plain": [
       "57.6614915865685"
      ]
     },
     "metadata": {},
     "output_type": "display_data"
    }
   ],
   "source": [
    "timezone = \"Europe/Copenhagen\"\n",
    "start_date = \"2024-04-20\"\n",
    "end_date = \"2024-09-20\"\n",
    "delta_time = \"Min\"  # \"Min\", \"H\", \n",
    "\n",
    "# Definition of Location object. Coordinates and elevation of Amager, Copenhagen (Denmark)\n",
    "site = Location(\n",
    "    55.785469, 12.519103, timezone, 21, \"DTU (DK)\"\n",
    ")  # latitude, longitude, time_zone, altitude, name\n",
    "\n",
    "# Definition of a time range of simulation\n",
    "times = pd.date_range(\n",
    "    start_date + \" 00:00:00\", end_date + \" 23:59:00\", freq=delta_time, tz=timezone\n",
    ")\n",
    "#print(times)\n",
    "\n",
    "sunpos = site.get_solarposition(times)\n",
    "maximum=sunpos.apparent_elevation.max()\n",
    "for i in range(len(sunpos.apparent_elevation)):\n",
    "    if sunpos.apparent_elevation[i] == maximum:\n",
    "        display(i%24)\n",
    "        display(maximum)\n",
    "        break"
   ]
  },
  {
   "cell_type": "markdown",
   "metadata": {},
   "source": [
    "> Create a Python function that can calculate the highest point of the sun $\\alpha_{max}$ in the sky (in degrees) on a given date (year-month-day) at a given location (e.g., city) specified by latitude and longitude. *Hint:* The answer should not depend on longitude, as the highest point of the sun in the sky depends only on latitude."
   ]
  },
  {
   "cell_type": "code",
   "execution_count": 17,
   "metadata": {},
   "outputs": [
    {
     "data": {
      "image/png": "[encoded data removed]",
      "text/latex": [
       "$\\displaystyle -23.439218121411$"
      ],
      "text/plain": [
       "-23.439218121410995"
      ]
     },
     "execution_count": 17,
     "metadata": {},
     "output_type": "execute_result"
    }
   ],
   "source": [
    "def highest_point_calc(date, latitude):\n",
    "\n",
    "    delta_time = \"Min\"  # \"Min\", \"H\", \n",
    "\n",
    "    # Definition of Location object.\n",
    "    site = Location(\n",
    "        latitude, 0\n",
    "    )  # latitude, longitude\n",
    "\n",
    "    # Definition of a time range of simulation\n",
    "    times = pd.date_range(\n",
    "        date + \" 00:00:00\", date + \" 23:59:00\", freq=delta_time\n",
    "    )\n",
    "\n",
    "    sunpos = site.get_solarposition(times)\n",
    "    maximum=sunpos.apparent_elevation.max()\n",
    "    return maximum\n",
    "\n",
    "highest_point_calc(\"2024-12-21\", 90)"
   ]
  },
  {
   "cell_type": "markdown",
   "metadata": {},
   "source": [
    "In a previous task, you found an expression for the sun's $xyz$ coordinates from $r_s$, $\\theta_s$, and $\\phi_s$.\n",
    "\n",
    "> Write a Python function (for use with NumPy arrays) that converts from the sun's zenith and azimuth to the sun's position given in $xyz$ coordinates. Remember whether you are working in radians or degrees. The `np.deg2rad()` function may be useful. It's fine to use an approximate value for $r_{s}$, but you can find a more accurate value with: `pvlib.solarposition.nrel_earthsun_distance(times) * 149597870700`, where `149597870700` is the number of meters in an astronomical unit (AU)."
   ]
  },
  {
   "cell_type": "code",
   "execution_count": 18,
   "metadata": {},
   "outputs": [
    {
     "name": "stderr",
     "output_type": "stream",
     "text": [
      "C:\\Users\\romul\\AppData\\Local\\Temp\\ipykernel_10268\\3161461169.py:5: FutureWarning: Series.__getitem__ treating keys as positions is deprecated. In a future version, integer keys will always be treated as labels (consistent with DataFrame behavior). To access a value by position, use `ser.iloc[pos]`\n",
      "  vector = (Matrix([cos(azimuth[i]),sin(azimuth[i]),tan(alpha[i])]))\n"
     ]
    },
    {
     "data": {
      "text/latex": [
       "$\\displaystyle \\left[\\begin{matrix}-80022621850.6196\\\\-226379198.812321\\\\126395615677.859\\end{matrix}\\right]$"
      ],
      "text/plain": [
       "⎡-80022621850.6196⎤\n",
       "⎢                 ⎥\n",
       "⎢-226379198.812321⎥\n",
       "⎢                 ⎥\n",
       "⎣126395615677.859 ⎦"
      ]
     },
     "execution_count": 18,
     "metadata": {},
     "output_type": "execute_result"
    }
   ],
   "source": [
    "def sunloc(azimuth,alpha,r):\n",
    "    #Defining angles in radians\n",
    "    alpha = np.deg2rad(sunpos.apparent_elevation)\n",
    "    azimuth = np.deg2rad(sunpos.azimuth)\n",
    "    vector = (Matrix([cos(azimuth[i]),sin(azimuth[i]),tan(alpha[i])]))\n",
    "    return(vector.normalized()*r)\n",
    "sunloc(180,57,149597870700)"
   ]
  },
  {
   "cell_type": "markdown",
   "metadata": {},
   "source": [
    "> Write a Python function that converts from the sun's position in the sky to zenith and azimuth (in degrees or radians) in $xyz$ coordinates. The `np.arctan2(y, x)` and `np.rad2deg()` functions may be useful."
   ]
  },
  {
   "cell_type": "markdown",
   "metadata": {},
   "source": [
    "> Create a Python function that can calculate the flux of the sun's vector field through the solar panel's surface for each minute throughout the day. You should use `solar_panel_projection(theta_sun, phi_sun, theta_panel, phi_panel)`. Remember to only include solar zenith angles $\\theta_s \\in [0, \\pi/2]$ (why?) so that the panel's flux is zero if the $\\theta_s$ values (in a vector like `sunpos.loc[chosen_date].zenith`) are above $\\pi/2$, i.e., 90 degrees."
   ]
  },
  {
   "cell_type": "code",
   "execution_count": 32,
   "metadata": {},
   "outputs": [
    {
     "data": {
      "image/png": "[encoded data removed]",
      "text/latex": [
       "$\\displaystyle 2 \\pi$"
      ],
      "text/plain": [
       "2⋅π"
      ]
     },
     "execution_count": 32,
     "metadata": {},
     "output_type": "execute_result"
    }
   ],
   "source": [
    "def deg_to_rad(deg_angle):\n",
    "    rad_angle = deg_angle * pi/180\n",
    "    return rad_angle\n",
    "deg_to_rad(360)"
   ]
  },
  {
   "cell_type": "code",
   "execution_count": 22,
   "metadata": {},
   "outputs": [
    {
     "name": "stderr",
     "output_type": "stream",
     "text": [
      "C:\\Users\\romul\\AppData\\Local\\Temp\\ipykernel_10268\\1278317716.py:7: FutureWarning: Series.__getitem__ treating keys as positions is deprecated. In a future version, integer keys will always be treated as labels (consistent with DataFrame behavior). To access a value by position, use `ser.iloc[pos]`\n",
      "  if alph[i] < 0 and alph[i+1] >= 0:\n",
      "C:\\Users\\romul\\AppData\\Local\\Temp\\ipykernel_10268\\1278317716.py:9: FutureWarning: Series.__getitem__ treating keys as positions is deprecated. In a future version, integer keys will always be treated as labels (consistent with DataFrame behavior). To access a value by position, use `ser.iloc[pos]`\n",
      "  if alph[i] >0 and alph[i+1] <=0:\n",
      "C:\\Users\\romul\\AppData\\Local\\Temp\\ipykernel_10268\\879285340.py:5: FutureWarning: Series.__getitem__ treating keys as positions is deprecated. In a future version, integer keys will always be treated as labels (consistent with DataFrame behavior). To access a value by position, use `ser.iloc[pos]`\n",
      "  vector = (Matrix([cos(azimuth[i]),sin(azimuth[i]),tan(alpha[i])]))\n"
     ]
    },
    {
     "data": {
      "image/png": "[encoded data removed]",
      "text/latex": [
       "$\\displaystyle 1104.62715867275$"
      ],
      "text/plain": [
       "1104.62715867275"
      ]
     },
     "execution_count": 22,
     "metadata": {},
     "output_type": "execute_result"
    }
   ],
   "source": [
    "def fluxfunct(azimuth_p,alpha_p,A0,L,B):\n",
    "    Energy = 0\n",
    "\n",
    "    # Creates the normal vector of the panel with the provided angles converted to radians\n",
    "    Panel = panel_normal(deg_to_rad(azimuth_p), deg_to_rad(alpha_p)) \n",
    "    Sunvis = False\n",
    "    alph = sunpos.apparent_elevation\n",
    "    azimuth = np.deg2rad(sunpos.azimuth)\n",
    "    for i in range(len(alph)-1):\n",
    "        if alph[i] < 0 and alph[i+1] >= 0:\n",
    "            Sunvis = True\n",
    "        if alph[i] >0 and alph[i+1] <= 0:\n",
    "            sunset = i+1\n",
    "            Sunvis = False\n",
    "        if Sunvis == True:\n",
    "            Energy += max(0,Panel.dot(solar_flux(i)))*A0*L*B\n",
    "    return Energy.evalf()\n",
    "\n",
    "\n",
    "timezone = \"Europe/Copenhagen\"\n",
    "start_date = \"2024-01-01\"\n",
    "end_date = \"2024-12-31\"\n",
    "delta_time = \"H\"  # \"Min\", \"H\", \n",
    "\n",
    "# Definition of Location object. Coordinates and elevation of Amager, Copenhagen (Denmark)\n",
    "site = Location(\n",
    "    55.785469, 12.519103, timezone, 21, \"DTU (DK)\"\n",
    ")  # latitude, longitude, time_zone, altitude, name\n",
    "\n",
    "# Definition of a time range of simulation\n",
    "times = pd.date_range(\n",
    "    start_date + \" 00:00:00\", end_date + \" 23:59:00\", freq=delta_time, tz=timezone\n",
    ")\n",
    "#print(times)\n",
    "\n",
    "sunpos = site.get_solarposition(times)\n",
    "fluxfunct(180,45,0.5,1,1)/1000"
   ]
  },
  {
   "cell_type": "markdown",
   "metadata": {},
   "source": [
    "> Point the solar panel towards the south, i.e., azimuth angle $\\phi_p = 180^\\circ$. Calculate the energy production for April 20th for each *integer* angle $\\theta_p$ between 0 and 90 degrees.\n"
   ]
  },
  {
   "cell_type": "code",
   "execution_count": null,
   "metadata": {},
   "outputs": [],
   "source": [
    "angle = []\n",
    "energy = []\n",
    "for alpha in range(0,90):\n",
    "    angle.append(alpha)\n",
    "    energy.append(fluxfunct(180,alpha,0.5,1,1))\n",
    "plt.plot(angle,energy)"
   ]
  },
  {
   "cell_type": "code",
   "execution_count": 24,
   "metadata": {},
   "outputs": [
    {
     "data": {
      "text/plain": [
       "[<matplotlib.lines.Line2D at 0x28de28099d0>]"
      ]
     },
     "execution_count": 24,
     "metadata": {},
     "output_type": "execute_result"
    },
    {
     "data": {
      "image/png": "[encoded data removed]",
      "text/plain": [
       "<Figure size 640x480 with 1 Axes>"
      ]
     },
     "metadata": {},
     "output_type": "display_data"
    }
   ],
   "source": [
    "plt.plot(angle,energy)"
   ]
  },
  {
   "cell_type": "markdown",
   "metadata": {},
   "source": [
    "> Point the solar panel towards the south, i.e., azimuth angle $\\phi_p = 180^\\circ$. Calculate the energy production for the entire year 2024 for each *integer* angle $\\theta_p$ between 0 and 90 degrees."
   ]
  },
  {
   "cell_type": "markdown",
   "metadata": {},
   "source": [
    "> Find the optimal angle $\\theta_p$ and indicate the energy production. How much less is the energy production if $\\phi_p$ is, for example, $175^\\circ$ or similar?\n"
   ]
  },
  {
   "cell_type": "markdown",
   "metadata": {},
   "source": [
    "> Set up a realistic configuration of $X$ number of solar panels, where you choose $X$ according to a typical setup on a single-family house. Solar panels are set up at the optimal angle. Calculate the energy production for each day and plot this as a function of time (specified in days)."
   ]
  }
 ],
 "metadata": {
  "kernelspec": {
   "display_name": "Python 3",
   "language": "python",
   "name": "python3"
  },
  "language_info": {
   "codemirror_mode": {
    "name": "ipython",
    "version": 3
   },
   "file_extension": ".py",
   "mimetype": "text/x-python",
   "name": "python",
   "nbconvert_exporter": "python",
   "pygments_lexer": "ipython3",
   "version": "3.11.6"
  }
 },
 "nbformat": 4,
 "nbformat_minor": 2
}
