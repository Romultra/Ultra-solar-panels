{
 "cells": [
  {
   "cell_type": "markdown",
   "metadata": {},
   "source": [
    "$u_p = (x_1,y_1,z_1)$\n",
    "\n",
    "$u_s = (x_2,y_2,z_2)$\n",
    "\n",
    "$|u_p| = |u_s| = 1 \\to x_1^2 + y_1^2+z_1^2 = x_2^2 + y_2^2+z_2^2 = 1$\n",
    "\n",
    "$u_p \\cdot u_s = x_1x_2 + y_1y_2 + z_1z_2$\n",
    "\n",
    "$x_1^2 +x_2^2 + y_1^2+y_2^2+z_1^2+z_2^2 = 2 $\n",
    "\n",
    "$(x_1+x_2)^2+(y_1+y_2)^2+(z_1+z_2)^2-2(x_1x_2+y_1y_2+z_1z_2) = 2$\n",
    "\n",
    "$\\sqrt{(x_1+x_2)^2+(y_1+y_2)^2+(z_1+z_2)^2} = [0,2]$ magnitude of addition of two vectors\n",
    "\n",
    "$(x_1+x_2)^2+(y_1+y_2)^2+(z_1+z_2)^2 = [0,4]$\n",
    "\n",
    "$[0,2]-1(x_1x_2+y_1y_2+z_1z_2) = 1$\n",
    "\n",
    "$-1(x_1x_2+y_1y_2+z_1z_2) = 1-[0,2] = [-1,1]$\n",
    "\n",
    "$(x_1x_2+y_1y_2+z_1z_2) = [-1,1]$\n",
    "\n"
   ]
  }
 ],
 "metadata": {
  "language_info": {
   "name": "python"
  }
 },
 "nbformat": 4,
 "nbformat_minor": 2
}
