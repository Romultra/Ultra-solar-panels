{
 "cells": [
  {
   "cell_type": "code",
   "execution_count": 6,
   "metadata": {},
   "outputs": [],
   "source": [
    "import numpy as np\n",
    "import sympy as sym\n",
    "import matplotlib.pyplot as plt\n",
    "import pandas as pd\n",
    "import pvlib\n",
    "from pvlib.location import Location\n",
    "from sympy import *\n",
    "from sympy.abc import x,y,z,u,v,w,t\n",
    "from dtumathtools import *\n",
    "init_printing()\n",
    "\n",
    "\n"
   ]
  },
  {
   "cell_type": "code",
   "execution_count": null,
   "metadata": {},
   "outputs": [],
   "source": [
    "\n",
    "\"\"\"timezone = \"Europe/Copenhagen\"\n",
    "start_date = \"2024-04-1\"\n",
    "end_date = \"2024-04-30\"\n",
    "delta_time = \"Min\"  # \"Min\", \"H\", \n",
    "\n",
    "# Definition of Location object. Coordinates and elevation of Amager, Copenhagen (Denmark)\n",
    "site = Location(\n",
    "    55.660439, 12.604980, timezone, 10, \"Amager (DK)\"\n",
    ")  # latitude, longitude, time_zone, altitude, name\n",
    "\n",
    "# Definition of a time range of simulation\n",
    "times = pd.date_range(\n",
    "    start_date + \" 00:00:00\", end_date + \" 23:59:00\", freq=delta_time, tz=timezone\n",
    ")\n",
    "\n",
    "\n",
    "# Estimate Solar Position with the 'Location' object\n",
    "sunpos = site.get_solarposition(times)\n",
    "\n",
    "# Visualize the resulting DataFrame\n",
    "#print(sunpos.head())\n",
    "\n",
    "\n",
    "\n",
    "import matplotlib.dates as mdates\n",
    "\n",
    "chosen_date = \"2024-04-20\"\n",
    "\n",
    "# Plots for solar zenith and solar azimuth angles\n",
    "fig, (ax1, ax2) = plt.subplots(1, 2, figsize=(30, 10))\n",
    "fig.suptitle(\"Solar Position Estimation in \" + site.name + chosen_date)\n",
    "\n",
    "# plot for solar zenith angle\n",
    "ax1.plot(sunpos.loc[chosen_date].zenith)\n",
    "ax1.set_ylabel(\"Solar zenith angle (degree)\")\n",
    "ax1.set_xlabel(\"Time (hour)\")\n",
    "ax1.xaxis.set_major_formatter(mdates.DateFormatter(\"%H\"))\n",
    "\n",
    "# plot for solar azimuth angle\n",
    "ax2.plot(sunpos.loc[chosen_date].azimuth)\n",
    "ax2.set_ylabel(\"Solar azimuth angle (degree)\")\n",
    "ax2.set_xlabel(\"Time (hour)\")\n",
    "ax2.xaxis.set_major_formatter(mdates.DateFormatter(\"%H\"))\n",
    "#plt.show()\n",
    "\n",
    "# print(\"start here\", (max(sunpos.loc[chosen_date].apparent_elevation)))\"\"\""
   ]
  },
  {
   "cell_type": "markdown",
   "metadata": {},
   "source": [
    "> Find through literature search the recommended angle at which solar panels are installed in Denmark. The angle is said to be zero degrees if the panel lies flat on the ground (or roof)."
   ]
  },
  {
   "cell_type": "markdown",
   "metadata": {},
   "source": [
    "The best angle in Copenhagen is $36^\\circ$ when the solar panel is facing south.\n",
    "\n",
    "Source: (Mark Z. Jacobson - World estimates of PV optimal tilt angles and ratios of sunlight incident upon tilted and tracked PV panels relative to horizontal panels) \n",
    "https://www.sciencedirect.com/science/article/pii/S0038092X1830375X"
   ]
  },
  {
   "cell_type": "markdown",
   "metadata": {},
   "source": [
    "> Select a type of solar panel. You can search for installers in Denmark and investigate which panels they typically use, or you can google \"solar panel datasheet\" or similar. The solar panel should be a standard panel (flat and not curved, for example). Find a datasheet for the chosen solar panel, and describe the panel's size (using $L$ for length and $B$ for width) and indicate Wp/Pmax (referred to as max power, peak power watts, or similar) under the STC standard. Describe what the STC standard entails. Calculate $Wp/(L B)$ (according to the list of standard assumptions above). Assume ideal conditions: the sun is perpendicular to the solar panel, and the solar irradiance is $1100 W/m^2$ for an entire hour. How many joules and kilowatt-hours does the panel deliver in this hour? How many watt-hours is this per $m^2$?\n"
   ]
  },
  {
   "cell_type": "markdown",
   "metadata": {},
   "source": [
    "The chosen solar panel is: \n",
    "\n",
    "source/datasheet:"
   ]
  },
  {
   "cell_type": "markdown",
   "metadata": {},
   "source": [
    "> Your final report should also include an introductory section where you describe solar energy and solar cells. You determine what exactly the section should contain, but the sources below can be used to find information. It is recommended to write this section first once you have progressed further with the project. \n",
    "\n",
    "1. https://www.pveducation.org/\n",
    "1. https://www.acs.org/education/resources/highschool/chemmatters/past-issues/archive-2013-2014/how-a-solar-cell-works.html"
   ]
  },
  {
   "cell_type": "markdown",
   "metadata": {},
   "source": [
    "The Introductionary section has NOT YET been written. It will be in the overleaf document"
   ]
  },
  {
   "cell_type": "markdown",
   "metadata": {},
   "source": [
    "> Provide a formula or expression for the flux through the surface expressed in terms of $A_0$, $\\pmb{u}_p, \\pmb{V}, L$, and $B$. We define the flux to be zero if the angle between $\\pmb{u}_p$ and $\\pmb{V}$ is greater than $\\pi/2$ (90 degrees), as we do not want negative flux. Your expression should account for this.\n",
    "\n",
    "*Hint*: Since the normal vector is constant, you can get rid of the integral sign.\n"
   ]
  },
  {
   "cell_type": "markdown",
   "metadata": {},
   "source": [
    "$ReLu(<u_p,V> \\cdot A_0 \\cdot L \\cdot B \\cdot)$"
   ]
  },
  {
   "cell_type": "markdown",
   "metadata": {},
   "source": [
    "> Provide SI units for $\\pmb{V}$, $L$, $B$, $A_0$, flux, and energy. Specify the relationship between $\\mathrm{J}$ and $\\mathrm{kWh}$."
   ]
  },
  {
   "cell_type": "markdown",
   "metadata": {},
   "source": [
    "unit for $\\pmb{V}$ is: \n",
    "\n",
    "unit for $L$ is: \n",
    "\n",
    "unit for $B$ is:\n",
    "\n",
    "unit for $A_0$ is:\n",
    "\n",
    "unit for flux is: \n",
    "\n",
    "unit for energy is: \n",
    "\n",
    "relationship between $\\mathrm{J}$ and $\\mathrm{kWh}$: kWh is the amount of work done in an hour, in the case of one kilowatt-hour, the work amounts to one kilowatt. 1 watt equals to 1 joule pr second, which in turn means one kilowatt equals 1000 joules per second. since we earlier defined kilowatthour as an hours work, we can say 1000 x 3600 (seconds in an hour) and we get 3.600.000, which is exactly what 1kwh equals in joule."
   ]
  },
  {
   "cell_type": "markdown",
   "metadata": {},
   "source": [
    "> Write Python code that finds all function values in `f` in the interval $[-0.05, 0.05]$ and indicates the corresponding `t` values. "
   ]
  },
  {
   "cell_type": "code",
   "execution_count": null,
   "metadata": {},
   "outputs": [],
   "source": [
    "# The code is based on..."
   ]
  },
  {
   "cell_type": "markdown",
   "metadata": {},
   "source": [
    "> Write a Python function that can find both sign changes (zero crossings) of `f`.\n"
   ]
  },
  {
   "cell_type": "markdown",
   "metadata": {},
   "source": [
    "> Write a Python function `def solar_elevation_angle(theta)` that, given $\\theta$ in degrees, calculates $\\alpha$ in degrees."
   ]
  },
  {
   "cell_type": "code",
   "execution_count": null,
   "metadata": {},
   "outputs": [],
   "source": [
    "def solar_elevation_angle(theta):\n",
    "    alpha = theta*180 / pi\n",
    "    return alpha\n",
    "solar_elevation_angle(pi)"
   ]
  },
  {
   "cell_type": "markdown",
   "metadata": {},
   "source": [
    "> Suppose the sun has a fixed distance $r_s$ to the Earth. Find a reasonable value for $r_s$. Provide a (mathematical) expression for how the sun's $xyz$-coordinates can be calculated from $r_s$, $\\theta_s$, and $\\phi_s$, where $\\theta_s$ and $\\phi_s$ are respectively the zenith and azimuth angles for the sun's position."
   ]
  },
  {
   "cell_type": "markdown",
   "metadata": {},
   "source": [
    "$r_s$ is approximately 150 million kilometers $(1.5 · 10^11 m)$ from the Earth. \n",
    "\n",
    "*Note: added m in case they're needed for calculations; if not, erase.*\n",
    "\n",
    "It is given that $\\alpha + \\theta = 90$, so, from the Earth's perspective we'll preferably work with $\\alpha$ as it considers the Sun's position from the horizon, up. Hence\n",
    "\n",
    "$\\left[ \n",
    "\\begin{array}{c}\n",
    "x\\\\\n",
    "y\\\\\n",
    "z \n",
    "\\end{array}\n",
    "\\right]$ \n",
    "$=$\n",
    "$\\left[\n",
    "\\begin{array}{c}\n",
    "r_s cos(\\alpha_s)\\\\\n",
    "r_s sin(\\alpha_s)\\\\\n",
    "r_s tan(\\phi_s)\n",
    "\\end{array}\n",
    "\\right]$\n",
    "\n",
    "The above is a non-normalized vector expression for $u_s$. If that is followed, the expression will become the parametrization of a sphere in terms of $\\alpha$. \n",
    "\n",
    "Alternatively, it may start off of the normalized parametrization of a sphere, using $\\theta$ instead and losing the unitary quality of its origin with the addition of the scalar $r_s$.\n",
    "\n",
    "$\\left[ \n",
    "\\begin{array}{c}\n",
    "x\\\\\n",
    "y\\\\\n",
    "z \n",
    "\\end{array}\n",
    "\\right]$ \n",
    "$=$\n",
    "$\\left[\n",
    "\\begin{array}{c}\n",
    "r_s sin(\\theta_s) cos(\\phi_s)\\\\\n",
    "r_s sin(\\theta_s) sin(\\phi_s)\\\\\n",
    "r_s  cos(\\phi_s)\n",
    "\\end{array}\n",
    "\\right]$\n",
    "\n"
   ]
  },
  {
   "cell_type": "markdown",
   "metadata": {},
   "source": [
    "> Provide a (mathematical) expression for $\\pmb{u}_p$ and for $\\langle \\pmb{u}_{s}, \\pmb{u}_p \\rangle$ based on the zenith and azimuth angles. You should simplify the expression so that it contains $\\cos(\\theta_p-\\theta_s)$ and only 5 trigonometric functions. Show that $-1 \\le \\langle \\pmb{u}_{s}, \\pmb{u}_p \\rangle \\le 1$. Explain in your own words what it means when $\\langle \\pmb{u}_{s}, \\pmb{u}_p \\rangle < 0$.\n"
   ]
  },
  {
   "cell_type": "markdown",
   "metadata": {},
   "source": [
    "$<u_s, u_p> = \\sin(\\alpha_p)\\sin(\\alpha_s) + \\cos(\\alpha)\\cos(\\alpha_s)\\cos(\\phi_p - \\phi_s)\\\\\n",
    "<u_s, u_p> = \\frac{cos(\\alpha_p - \\alpha_s) - cos(\\alpha_p+\\alpha_s)}{2} + \\cos(\\alpha)\\cos(\\alpha_s)\\cos(\\phi_p - \\phi_s)$\n",
    "\n",
    "$\\text{Note: our vectors result from the parametrization of a sphere in terms of alpha instead of theta, knowing that alpha + theta = 90. For more info on this, Emilia has the working out of it.}$\n",
    "$sin(a)sin(b) = (1/2)(cos(a-b)-cos(a+b))$"
   ]
  },
  {
   "cell_type": "code",
   "execution_count": 3,
   "metadata": {},
   "outputs": [
    {
     "name": "stdout",
     "output_type": "stream",
     "text": [
      "57.5906725265804\n",
      "done\n"
     ]
    }
   ],
   "source": [
    "def elevation_max(date, latitude, longitude, frequency, timezone, altitude, location_name):\n",
    "    \n",
    "    times = pd.date_range(date + \" 00:00:00\", date + \" 23:59:00\", freq=frequency, tz=timezone)\n",
    "\n",
    "    site = Location(latitude, longitude, timezone, altitude, str(location_name))\n",
    "\n",
    "    sunpos = site.get_solarposition(times)\n",
    "\n",
    "    return (max(np.array(sunpos.loc[date].apparent_elevation)))\n",
    "\n",
    "print(elevation_max(\"2024-06-20\", 55.785469, 12.519103, \"H\", \"Europe/Copenhagen\", 21, \"Amager DK\"))\n",
    "print('done') "
   ]
  },
  {
   "cell_type": "code",
   "execution_count": 5,
   "metadata": {},
   "outputs": [],
   "source": [
    "def solar_flux(i):\n",
    "    #Defining angles in radians\n",
    "    alpha = np.deg2rad(sunpos.apparent_elevation)\n",
    "    azimuth = np.deg2rad(sunpos.azimuth)\n",
    "    vector = (Matrix([cos(azimuth[i]),sin(azimuth[i]),tan(alpha[i])]))\n",
    "    return(vector.normalized()*1100)"
   ]
  },
  {
   "cell_type": "code",
   "execution_count": 6,
   "metadata": {},
   "outputs": [],
   "source": [
    "def panel_normal(azimuth,alpha):\n",
    "    vector = (Matrix([cos(azimuth),sin(azimuth),tan(alpha)]))\n",
    "    return(vector.normalized())"
   ]
  },
  {
   "cell_type": "code",
   "execution_count": 8,
   "metadata": {},
   "outputs": [
    {
     "data": {
      "image/png": "[encoded data removed]",
      "text/latex": [
       "$\\displaystyle 574.108238166039$"
      ],
      "text/plain": [
       "574.108238166039"
      ]
     },
     "execution_count": 8,
     "metadata": {},
     "output_type": "execute_result"
    }
   ],
   "source": [
    "def fluxfunct(azimuth_p,alpha_p,A0,L,B):\n",
    "    Energy = 0\n",
    "    Panel = panel_normal(azimuth_p,alpha_p)\n",
    "    Sunvis = False\n",
    "    alph = sunpos.apparent_elevation\n",
    "    for i in range(len(alph)-1):\n",
    "        if alph[i] < 0 and alph[i+1] >= 0:\n",
    "            Sunvis = True\n",
    "        if alph[i] >0 and alph[i+1] <=0:\n",
    "            sunse = i+1\n",
    "            Sunvis = False\n",
    "        if Sunvis == True:\n",
    "            Energy += max(0,Panel.dot(solar_flux(i)))*A0*L*B\n",
    "    return Energy.evalf()\n",
    "timezone = \"Europe/Copenhagen\"\n",
    "start_date = \"2024-01-1\"\n",
    "end_date = \"2024-12-30\"\n",
    "delta_time = \"H\"  # \"Min\", \"H\", \n",
    "\n",
    "# Definition of Location object. Coordinates and elevation of Amager, Copenhagen (Denmark)\n",
    "site = Location(\n",
    "    55.785469, 12.519103, timezone, 21, \"DTU (DK)\"\n",
    ")  # latitude, longitude, time_zone, altitude, name\n",
    "\n",
    "# Definition of a time range of simulation\n",
    "times = pd.date_range(\n",
    "    start_date + \" 00:00:00\", end_date + \" 23:59:00\", freq=delta_time, tz=timezone\n",
    ")\n",
    "#print(times)\n",
    "\n",
    "sunpos = site.get_solarposition(times)\n",
    "fluxfunct(175,45,0.5,1,1)/1000"
   ]
  },
  {
   "cell_type": "code",
   "execution_count": 3,
   "metadata": {},
   "outputs": [
    {
     "data": {
      "text/html": [
       "<div>\n",
       "<style scoped>\n",
       "    .dataframe tbody tr th:only-of-type {\n",
       "        vertical-align: middle;\n",
       "    }\n",
       "\n",
       "    .dataframe tbody tr th {\n",
       "        vertical-align: top;\n",
       "    }\n",
       "\n",
       "    .dataframe thead th {\n",
       "        text-align: right;\n",
       "    }\n",
       "</style>\n",
       "<table border=\"1\" class=\"dataframe\">\n",
       "  <thead>\n",
       "    <tr style=\"text-align: right;\">\n",
       "      <th></th>\n",
       "      <th>apparent_zenith</th>\n",
       "      <th>zenith</th>\n",
       "      <th>apparent_elevation</th>\n",
       "      <th>elevation</th>\n",
       "      <th>azimuth</th>\n",
       "      <th>equation_of_time</th>\n",
       "    </tr>\n",
       "  </thead>\n",
       "  <tbody>\n",
       "    <tr>\n",
       "      <th>2024-01-01 00:00:00+01:00</th>\n",
       "      <td>147.189715</td>\n",
       "      <td>147.189715</td>\n",
       "      <td>-57.189715</td>\n",
       "      <td>-57.189715</td>\n",
       "      <td>354.483531</td>\n",
       "      <td>-3.055576</td>\n",
       "    </tr>\n",
       "    <tr>\n",
       "      <th>2024-01-01 01:00:00+01:00</th>\n",
       "      <td>146.142895</td>\n",
       "      <td>146.142895</td>\n",
       "      <td>-56.142895</td>\n",
       "      <td>-56.142895</td>\n",
       "      <td>19.651134</td>\n",
       "      <td>-3.075359</td>\n",
       "    </tr>\n",
       "    <tr>\n",
       "      <th>2024-01-01 02:00:00+01:00</th>\n",
       "      <td>141.803473</td>\n",
       "      <td>141.803473</td>\n",
       "      <td>-51.803473</td>\n",
       "      <td>-51.803473</td>\n",
       "      <td>42.036255</td>\n",
       "      <td>-3.095135</td>\n",
       "    </tr>\n",
       "    <tr>\n",
       "      <th>2024-01-01 03:00:00+01:00</th>\n",
       "      <td>135.226110</td>\n",
       "      <td>135.226110</td>\n",
       "      <td>-45.226110</td>\n",
       "      <td>-45.226110</td>\n",
       "      <td>60.428319</td>\n",
       "      <td>-3.114902</td>\n",
       "    </tr>\n",
       "    <tr>\n",
       "      <th>2024-01-01 04:00:00+01:00</th>\n",
       "      <td>127.415663</td>\n",
       "      <td>127.415663</td>\n",
       "      <td>-37.415663</td>\n",
       "      <td>-37.415663</td>\n",
       "      <td>75.621787</td>\n",
       "      <td>-3.134661</td>\n",
       "    </tr>\n",
       "    <tr>\n",
       "      <th>...</th>\n",
       "      <td>...</td>\n",
       "      <td>...</td>\n",
       "      <td>...</td>\n",
       "      <td>...</td>\n",
       "      <td>...</td>\n",
       "      <td>...</td>\n",
       "    </tr>\n",
       "    <tr>\n",
       "      <th>2024-01-30 19:00:00+01:00</th>\n",
       "      <td>109.670267</td>\n",
       "      <td>109.670267</td>\n",
       "      <td>-19.670267</td>\n",
       "      <td>-19.670267</td>\n",
       "      <td>267.303491</td>\n",
       "      <td>-13.209188</td>\n",
       "    </tr>\n",
       "    <tr>\n",
       "      <th>2024-01-30 20:00:00+01:00</th>\n",
       "      <td>118.060931</td>\n",
       "      <td>118.060931</td>\n",
       "      <td>-28.060931</td>\n",
       "      <td>-28.060931</td>\n",
       "      <td>279.972589</td>\n",
       "      <td>-13.215895</td>\n",
       "    </tr>\n",
       "    <tr>\n",
       "      <th>2024-01-30 21:00:00+01:00</th>\n",
       "      <td>126.104139</td>\n",
       "      <td>126.104139</td>\n",
       "      <td>-36.104139</td>\n",
       "      <td>-36.104139</td>\n",
       "      <td>293.947073</td>\n",
       "      <td>-13.222578</td>\n",
       "    </tr>\n",
       "    <tr>\n",
       "      <th>2024-01-30 22:00:00+01:00</th>\n",
       "      <td>133.237981</td>\n",
       "      <td>133.237981</td>\n",
       "      <td>-43.237981</td>\n",
       "      <td>-43.237981</td>\n",
       "      <td>310.087634</td>\n",
       "      <td>-13.229238</td>\n",
       "    </tr>\n",
       "    <tr>\n",
       "      <th>2024-01-30 23:00:00+01:00</th>\n",
       "      <td>138.694232</td>\n",
       "      <td>138.694232</td>\n",
       "      <td>-48.694232</td>\n",
       "      <td>-48.694232</td>\n",
       "      <td>329.166672</td>\n",
       "      <td>-13.235875</td>\n",
       "    </tr>\n",
       "  </tbody>\n",
       "</table>\n",
       "<p>720 rows × 6 columns</p>\n",
       "</div>"
      ],
      "text/plain": [
       "                           apparent_zenith      zenith  apparent_elevation  \\\n",
       "2024-01-01 00:00:00+01:00       147.189715  147.189715          -57.189715   \n",
       "2024-01-01 01:00:00+01:00       146.142895  146.142895          -56.142895   \n",
       "2024-01-01 02:00:00+01:00       141.803473  141.803473          -51.803473   \n",
       "2024-01-01 03:00:00+01:00       135.226110  135.226110          -45.226110   \n",
       "2024-01-01 04:00:00+01:00       127.415663  127.415663          -37.415663   \n",
       "...                                    ...         ...                 ...   \n",
       "2024-01-30 19:00:00+01:00       109.670267  109.670267          -19.670267   \n",
       "2024-01-30 20:00:00+01:00       118.060931  118.060931          -28.060931   \n",
       "2024-01-30 21:00:00+01:00       126.104139  126.104139          -36.104139   \n",
       "2024-01-30 22:00:00+01:00       133.237981  133.237981          -43.237981   \n",
       "2024-01-30 23:00:00+01:00       138.694232  138.694232          -48.694232   \n",
       "\n",
       "                           elevation     azimuth  equation_of_time  \n",
       "2024-01-01 00:00:00+01:00 -57.189715  354.483531         -3.055576  \n",
       "2024-01-01 01:00:00+01:00 -56.142895   19.651134         -3.075359  \n",
       "2024-01-01 02:00:00+01:00 -51.803473   42.036255         -3.095135  \n",
       "2024-01-01 03:00:00+01:00 -45.226110   60.428319         -3.114902  \n",
       "2024-01-01 04:00:00+01:00 -37.415663   75.621787         -3.134661  \n",
       "...                              ...         ...               ...  \n",
       "2024-01-30 19:00:00+01:00 -19.670267  267.303491        -13.209188  \n",
       "2024-01-30 20:00:00+01:00 -28.060931  279.972589        -13.215895  \n",
       "2024-01-30 21:00:00+01:00 -36.104139  293.947073        -13.222578  \n",
       "2024-01-30 22:00:00+01:00 -43.237981  310.087634        -13.229238  \n",
       "2024-01-30 23:00:00+01:00 -48.694232  329.166672        -13.235875  \n",
       "\n",
       "[720 rows x 6 columns]"
      ]
     },
     "execution_count": 3,
     "metadata": {},
     "output_type": "execute_result"
    }
   ],
   "source": [
    "timezone = \"Europe/Copenhagen\"\n",
    "start_date = \"2024-01-1\"\n",
    "end_date = \"2024-01-30\"\n",
    "delta_time = \"H\"  # \"Min\", \"H\", \n",
    "\n",
    "place = Location(55.785469, 12.519103, timezone, 21, \"DTU (DK)\")\n",
    "\n",
    "times = pd.date_range(start_date + \" 00:00:00\", end_date + \" 23:59:00\", freq=delta_time, tz=timezone)\n",
    "\n",
    "\n",
    "\n",
    "def DontKnowWhatToCall(start_date):\n",
    "\n",
    "    times = pd.date_range(start_date + \" 00:00:00\", end_date + \" 23:59:00\", freq=delta_time, tz=timezone)\n",
    "    sunpos = place.get_solarposition(times=times)\n",
    "\n",
    "    zenith = sunpos.zenith\n",
    "    azimuth = sunpos.azimuth\n",
    "\n",
    "    x = np.array\n",
    "\n",
    "    for i in range(len(sunpos.zenith)):\n",
    "        \n",
    "\n",
    "        x = r * cos(zenith) * sin(azimuth)\n",
    "        y = r * cos(zenith) * cos(azimuth)\n",
    "        z = r * sin(zenith)\n",
    "\n",
    "\n",
    "        return np.array(x, y, z)\n",
    "\n",
    "display(DontKnowWhatToCall)\n",
    "#vi bruger solens placering baseret på ne lokation til at finde azimuth og zenith hvilken derfra kan bruges til at finde xyz koordinater."
   ]
  },
  {
   "cell_type": "code",
   "execution_count": null,
   "metadata": {},
   "outputs": [],
   "source": [
    "import numpy as np\n",
    "import sympy as sym\n",
    "import matplotlib.pyplot as plt\n",
    "import pandas as pd\n",
    "import pvlib\n",
    "from pvlib.location import Location\n",
    "from sympy import *\n",
    "from sympy.abc import x,y,z,u,v,w,t\n",
    "from dtumathtools import *\n",
    "\n",
    "timezone = \"Europe/Copenhagen\"\n",
    "start_date = \"2024-01-1\"\n",
    "end_date = \"2024-01-3\"\n",
    "delta_time = \"H\"  # \"Min\", \"H\", \n",
    "\n",
    "place = Location(55.785469, 12.519103, timezone, 21, \"DTU (DK)\")\n",
    "\n",
    "times = pd.date_range(start_date + \" 00:00:00\", end_date + \" 23:59:00\", freq=delta_time, tz=timezone)\n",
    "\n",
    "r = pvlib.solarposition.nrel_earthsun_distance(times) * 149597870700\n",
    "\n",
    "print(r[0])\n",
    "\n",
    "\n"
   ]
  },
  {
   "cell_type": "code",
   "execution_count": null,
   "metadata": {},
   "outputs": [],
   "source": [
    "import numpy as np\n",
    "import sympy as sym\n",
    "import matplotlib.pyplot as plt\n",
    "import pandas as pd\n",
    "import pvlib\n",
    "from pvlib.location import Location\n",
    "from sympy import *\n",
    "from sympy.abc import x,y,z,u,v,w,t\n",
    "from dtumathtools import *\n",
    "\n",
    "timezone = \"Europe/Copenhagen\"\n",
    "start_date = \"2024-01-1\"\n",
    "end_date = \"2024-01-3\"\n",
    "delta_time = \"H\"  # \"Min\", \"H\", \n",
    "\n",
    "place = Location(55.785469, 12.519103, timezone, 21, \"DTU (DK)\")\n",
    "times = pd.date_range(start_date + \" 00:00:00\", end_date + \" 23:59:00\", freq=delta_time, tz=timezone)\n",
    "\n",
    "def DontKnowWhatToCall():\n",
    "\n",
    "\n",
    "    times = pd.date_range(start_date + \" 00:00:00\", end_date + \" 23:59:00\", freq=delta_time, tz=timezone)\n",
    "    r = pvlib.solarposition.nrel_earthsun_distance(times) * 149597870700\n",
    "    \n",
    "    sunpos = place.get_solarposition(times=times)\n",
    "\n",
    "    zenith = sunpos.zenith\n",
    "    azimuth = sunpos.azimuth\n",
    "\n",
    "    x = np.zeros((len(sunpos.zenith),3))\n",
    "    a = 1\n",
    "    b = 2\n",
    "    c = 3\n",
    "    for i in range(len(sunpos.zenith)):\n",
    "        \n",
    "        a = r[i] * cos(np.deg2rad(zenith[i])) * sin(np.deg2rad(azimuth[i]))\n",
    "        b = r[i] * cos(np.deg2rad(zenith[i])) * cos(np.deg2rad(azimuth[i]))\n",
    "        c = r[i] * sin(np.deg2rad(zenith[i]))\n",
    "\n",
    "        x[i] = a,b,c\n",
    "       \n",
    "        \n",
    "\n",
    "\n",
    "    return x\n",
    "\n",
    "print(DontKnowWhatToCall())\n",
    "\n",
    "#would np.deg2rad be used or not?\n",
    "\n",
    "def azi_zeni_r_to_xyz():\n",
    "\n",
    "    times = pd.date_range(start_date + \" 00:00:00\", end_date + \" 23:59:00\", freq=delta_time, tz=timezone)\n",
    "    r = pvlib.solarposition.nrel_earthsun_distance(times) * 149597870700\n",
    "    \n",
    "    sunpos = place.get_solarposition(times=times)\n",
    "\n",
    "    zenith = sunpos.apparent_zenith\n",
    "    azimuth = sunpos.azimuth\n",
    "\n",
    "    coordinates = np.zeros((len(sunpos.zenith),3))\n",
    "    \n",
    "    for i in range(len(sunpos.zenith)):\n",
    "        \n",
    "        a = (zenith[i])\n",
    "        b = (azimuth[i])\n",
    "        c = (r[i])\n",
    "\n",
    "        coordinates[i] = a,b,c\n",
    "       \n",
    "    return coordinates\n",
    "\n",
    "#print(azi_zeni_r_to_xyz())"
   ]
  }
 ],
 "metadata": {
  "kernelspec": {
   "display_name": "Python 3",
   "language": "python",
   "name": "python3"
  },
  "language_info": {
   "codemirror_mode": {
    "name": "ipython",
    "version": 3
   },
   "file_extension": ".py",
   "mimetype": "text/x-python",
   "name": "python",
   "nbconvert_exporter": "python",
   "pygments_lexer": "ipython3",
   "version": "3.11.5"
  }
 },
 "nbformat": 4,
 "nbformat_minor": 2
}
