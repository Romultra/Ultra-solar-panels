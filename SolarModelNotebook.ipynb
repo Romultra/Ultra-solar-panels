{
 "cells": [
  {
   "cell_type": "code",
   "execution_count": 1,
   "metadata": {},
   "outputs": [],
   "source": [
    "import numpy as np\n",
    "import sympy as sym\n",
    "import matplotlib.pyplot as plt\n",
    "import pandas as pd\n",
    "import pvlib\n",
    "from pvlib.location import Location\n",
    "from sympy import *\n",
    "from sympy.abc import x,y,z,u,v,w,t\n",
    "from dtumathtools import *\n",
    "init_printing()"
   ]
  },
  {
   "cell_type": "code",
   "execution_count": 12,
   "metadata": {},
   "outputs": [
    {
     "data": {
      "text/html": [
       "<div>\n",
       "<style scoped>\n",
       "    .dataframe tbody tr th:only-of-type {\n",
       "        vertical-align: middle;\n",
       "    }\n",
       "\n",
       "    .dataframe tbody tr th {\n",
       "        vertical-align: top;\n",
       "    }\n",
       "\n",
       "    .dataframe thead th {\n",
       "        text-align: right;\n",
       "    }\n",
       "</style>\n",
       "<table border=\"1\" class=\"dataframe\">\n",
       "  <thead>\n",
       "    <tr style=\"text-align: right;\">\n",
       "      <th></th>\n",
       "      <th>apparent_zenith</th>\n",
       "      <th>zenith</th>\n",
       "      <th>apparent_elevation</th>\n",
       "      <th>elevation</th>\n",
       "      <th>azimuth</th>\n",
       "      <th>equation_of_time</th>\n",
       "    </tr>\n",
       "  </thead>\n",
       "  <tbody>\n",
       "    <tr>\n",
       "      <th>2024-06-01 00:00:00+02:00</th>\n",
       "      <td>100.814547</td>\n",
       "      <td>100.814547</td>\n",
       "      <td>-10.814547</td>\n",
       "      <td>-10.814547</td>\n",
       "      <td>344.046865</td>\n",
       "      <td>2.174048</td>\n",
       "    </tr>\n",
       "    <tr>\n",
       "      <th>2024-06-01 01:00:00+02:00</th>\n",
       "      <td>102.112956</td>\n",
       "      <td>102.112956</td>\n",
       "      <td>-12.112956</td>\n",
       "      <td>-12.112956</td>\n",
       "      <td>358.161652</td>\n",
       "      <td>2.167611</td>\n",
       "    </tr>\n",
       "    <tr>\n",
       "      <th>2024-06-01 02:00:00+02:00</th>\n",
       "      <td>101.336428</td>\n",
       "      <td>101.336428</td>\n",
       "      <td>-11.336428</td>\n",
       "      <td>-11.336428</td>\n",
       "      <td>12.328847</td>\n",
       "      <td>2.161163</td>\n",
       "    </tr>\n",
       "    <tr>\n",
       "      <th>2024-06-01 03:00:00+02:00</th>\n",
       "      <td>98.552882</td>\n",
       "      <td>98.552882</td>\n",
       "      <td>-8.552882</td>\n",
       "      <td>-8.552882</td>\n",
       "      <td>26.148392</td>\n",
       "      <td>2.154702</td>\n",
       "    </tr>\n",
       "    <tr>\n",
       "      <th>2024-06-01 04:00:00+02:00</th>\n",
       "      <td>93.988408</td>\n",
       "      <td>93.988408</td>\n",
       "      <td>-3.988408</td>\n",
       "      <td>-3.988408</td>\n",
       "      <td>39.350649</td>\n",
       "      <td>2.148229</td>\n",
       "    </tr>\n",
       "    <tr>\n",
       "      <th>...</th>\n",
       "      <td>...</td>\n",
       "      <td>...</td>\n",
       "      <td>...</td>\n",
       "      <td>...</td>\n",
       "      <td>...</td>\n",
       "      <td>...</td>\n",
       "    </tr>\n",
       "    <tr>\n",
       "      <th>2024-07-04 19:00:00+02:00</th>\n",
       "      <td>69.286819</td>\n",
       "      <td>69.330727</td>\n",
       "      <td>20.713181</td>\n",
       "      <td>20.669273</td>\n",
       "      <td>280.441160</td>\n",
       "      <td>-4.570209</td>\n",
       "    </tr>\n",
       "    <tr>\n",
       "      <th>2024-07-04 20:00:00+02:00</th>\n",
       "      <td>77.341616</td>\n",
       "      <td>77.413914</td>\n",
       "      <td>12.658384</td>\n",
       "      <td>12.586086</td>\n",
       "      <td>292.156895</td>\n",
       "      <td>-4.577508</td>\n",
       "    </tr>\n",
       "    <tr>\n",
       "      <th>2024-07-04 21:00:00+02:00</th>\n",
       "      <td>84.691122</td>\n",
       "      <td>84.847955</td>\n",
       "      <td>5.308878</td>\n",
       "      <td>5.152045</td>\n",
       "      <td>303.960634</td>\n",
       "      <td>-4.584797</td>\n",
       "    </tr>\n",
       "    <tr>\n",
       "      <th>2024-07-04 22:00:00+02:00</th>\n",
       "      <td>91.296350</td>\n",
       "      <td>91.296350</td>\n",
       "      <td>-1.296350</td>\n",
       "      <td>-1.296350</td>\n",
       "      <td>316.200777</td>\n",
       "      <td>-4.592077</td>\n",
       "    </tr>\n",
       "    <tr>\n",
       "      <th>2024-07-04 23:00:00+02:00</th>\n",
       "      <td>96.413620</td>\n",
       "      <td>96.413620</td>\n",
       "      <td>-6.413620</td>\n",
       "      <td>-6.413620</td>\n",
       "      <td>329.075591</td>\n",
       "      <td>-4.599347</td>\n",
       "    </tr>\n",
       "  </tbody>\n",
       "</table>\n",
       "<p>816 rows × 6 columns</p>\n",
       "</div>"
      ],
      "text/plain": [
       "                           apparent_zenith      zenith  apparent_elevation  \\\n",
       "2024-06-01 00:00:00+02:00       100.814547  100.814547          -10.814547   \n",
       "2024-06-01 01:00:00+02:00       102.112956  102.112956          -12.112956   \n",
       "2024-06-01 02:00:00+02:00       101.336428  101.336428          -11.336428   \n",
       "2024-06-01 03:00:00+02:00        98.552882   98.552882           -8.552882   \n",
       "2024-06-01 04:00:00+02:00        93.988408   93.988408           -3.988408   \n",
       "...                                    ...         ...                 ...   \n",
       "2024-07-04 19:00:00+02:00        69.286819   69.330727           20.713181   \n",
       "2024-07-04 20:00:00+02:00        77.341616   77.413914           12.658384   \n",
       "2024-07-04 21:00:00+02:00        84.691122   84.847955            5.308878   \n",
       "2024-07-04 22:00:00+02:00        91.296350   91.296350           -1.296350   \n",
       "2024-07-04 23:00:00+02:00        96.413620   96.413620           -6.413620   \n",
       "\n",
       "                           elevation     azimuth  equation_of_time  \n",
       "2024-06-01 00:00:00+02:00 -10.814547  344.046865          2.174048  \n",
       "2024-06-01 01:00:00+02:00 -12.112956  358.161652          2.167611  \n",
       "2024-06-01 02:00:00+02:00 -11.336428   12.328847          2.161163  \n",
       "2024-06-01 03:00:00+02:00  -8.552882   26.148392          2.154702  \n",
       "2024-06-01 04:00:00+02:00  -3.988408   39.350649          2.148229  \n",
       "...                              ...         ...               ...  \n",
       "2024-07-04 19:00:00+02:00  20.669273  280.441160         -4.570209  \n",
       "2024-07-04 20:00:00+02:00  12.586086  292.156895         -4.577508  \n",
       "2024-07-04 21:00:00+02:00   5.152045  303.960634         -4.584797  \n",
       "2024-07-04 22:00:00+02:00  -1.296350  316.200777         -4.592077  \n",
       "2024-07-04 23:00:00+02:00  -6.413620  329.075591         -4.599347  \n",
       "\n",
       "[816 rows x 6 columns]"
      ]
     },
     "metadata": {},
     "output_type": "display_data"
    },
    {
     "data": {
      "text/plain": [
       "(57.59065985962742, None)"
      ]
     },
     "execution_count": 12,
     "metadata": {},
     "output_type": "execute_result"
    }
   ],
   "source": [
    "timezone = \"Europe/Copenhagen\"\n",
    "start_date = \"2024-06-01\"\n",
    "end_date = \"2024-07-04\"\n",
    "delta_time = \"H\"  # \"Min\", \"H\", \n",
    "\n",
    "# Definition of Location object. Coordinates and elevation of Amager, Copenhagen (Denmark)\n",
    "site = Location(\n",
    "    55.785469, 12.519103, timezone, 10, \"DTU (DK)\"\n",
    ")  # latitude, longitude, time_zone, altitude, name\n",
    "\n",
    "# Definition of a time range of simulation\n",
    "times = pd.date_range(\n",
    "    start_date + \" 00:00:00\", end_date + \" 23:59:00\", freq=delta_time, tz=timezone\n",
    ")\n",
    "#print(times)\n",
    "\n",
    "sunpos = site.get_solarposition(times)\n",
    "\n",
    "sunpos.apparent_elevation.max(),display(sunpos)"
   ]
  },
  {
   "cell_type": "code",
   "execution_count": 16,
   "metadata": {},
   "outputs": [
    {
     "name": "stderr",
     "output_type": "stream",
     "text": [
      "C:\\Users\\emils\\AppData\\Local\\Temp\\ipykernel_36064\\4195698290.py:6: FutureWarning: Series.__getitem__ treating keys as positions is deprecated. In a future version, integer keys will always be treated as labels (consistent with DataFrame behavior). To access a value by position, use `ser.iloc[pos]`\n",
      "  vector = (Matrix([cos(azimuth[i]),sin(azimuth[i]),tan(alpha[i])]))\n"
     ]
    },
    {
     "data": {
      "text/latex": [
       "$\\displaystyle \\left[\\begin{matrix}-158.861415765889\\\\898.119832268822\\\\614.933994398001\\end{matrix}\\right]$"
      ],
      "text/plain": [
       "⎡-158.861415765889⎤\n",
       "⎢                 ⎥\n",
       "⎢898.119832268822 ⎥\n",
       "⎢                 ⎥\n",
       "⎣614.933994398001 ⎦"
      ]
     },
     "metadata": {},
     "output_type": "display_data"
    },
    {
     "data": {
      "image/png": "[encoded data removed]",
      "text/latex": [
       "$\\displaystyle 1100.0$"
      ],
      "text/plain": [
       "1100.00000000000"
      ]
     },
     "execution_count": 16,
     "metadata": {},
     "output_type": "execute_result"
    }
   ],
   "source": [
    "sunpos = site.get_solarposition(times)\n",
    "def solar_flux(i):\n",
    "    #Defining angles in radians\n",
    "    alpha = np.deg2rad(sunpos.apparent_elevation)\n",
    "    azimuth = np.deg2rad(sunpos.azimuth)\n",
    "    vector = (Matrix([cos(azimuth[i]),sin(azimuth[i]),tan(alpha[i])]))\n",
    "    return(vector.normalized()*1100)\n",
    "a = solar_flux(57)\n",
    "display((a).evalf())\n",
    "sqrt(a[0]**2 +a[1]**2 + a[2]**2)\n",
    "     \n"
   ]
  },
  {
   "cell_type": "code",
   "execution_count": 4,
   "metadata": {},
   "outputs": [
    {
     "data": {
      "text/latex": [
       "$\\displaystyle \\left[\\begin{matrix}-0.707106781186548\\\\8.65956056235493 \\cdot 10^{-17}\\\\0.707106781186547\\end{matrix}\\right]$"
      ],
      "text/plain": [
       "⎡ -0.707106781186548 ⎤\n",
       "⎢                    ⎥\n",
       "⎢8.65956056235493e-17⎥\n",
       "⎢                    ⎥\n",
       "⎣ 0.707106781186547  ⎦"
      ]
     },
     "execution_count": 4,
     "metadata": {},
     "output_type": "execute_result"
    }
   ],
   "source": [
    "#rn must use radians, maybe change so can be used as degrees?\n",
    "def panel_normal(azimuth,alpha):\n",
    "    vector = (Matrix([cos(azimuth),sin(azimuth),tan(alpha)]))\n",
    "    return(vector.normalized())\n",
    "b = panel_normal(np.deg2rad(180),np.deg2rad(45))\n",
    "b.evalf()"
   ]
  },
  {
   "cell_type": "code",
   "execution_count": 20,
   "metadata": {},
   "outputs": [
    {
     "data": {
      "image/png": "[encoded data removed]",
      "text/latex": [
       "$\\displaystyle 273.577990888956$"
      ],
      "text/plain": [
       "273.577990888956"
      ]
     },
     "execution_count": 20,
     "metadata": {},
     "output_type": "execute_result"
    }
   ],
   "source": [
    "max(0,a.dot(b))*1*1*0.5"
   ]
  }
 ],
 "metadata": {
  "kernelspec": {
   "display_name": "Python 3",
   "language": "python",
   "name": "python3"
  },
  "language_info": {
   "codemirror_mode": {
    "name": "ipython",
    "version": 3
   },
   "file_extension": ".py",
   "mimetype": "text/x-python",
   "name": "python",
   "nbconvert_exporter": "python",
   "pygments_lexer": "ipython3",
   "version": "3.11.4"
  }
 },
 "nbformat": 4,
 "nbformat_minor": 2
}
